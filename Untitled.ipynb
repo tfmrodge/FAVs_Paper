{
 "cells": [
  {
   "cell_type": "code",
   "execution_count": null,
   "metadata": {},
   "outputs": [],
   "source": [
    "<font size=\"+1\">A Bayesian Approach to Final Adjusted Values</font> <br><br>\n",
    "\n",
    "In this workbook we are going to estimate final adjusted values (FAVs) for a list of compounds using a couple of different methods. FAVs are physical-chemical property values adjusted for thermodynamic consistency, as each of the properties can be expressed as a combination of the other properties (Cole and Mackay, 2000; Beyer et al., 2002). The properties of interest are as follows:\n",
    "<font size=\"+1\">Solubilities</font> <br><br>\n",
    "Subcooled liquid vapour pressure (PL/Pa) - converted to subcooled liquid air solubility (SAL/mol m-3) as SAL = PL/RT (Cole & Mackay, 2000)\n",
    "Subcooled liquid water solubilty (SWL/mol m-3)\n",
    "Subcooled liquid octanol solubility (SOL/mol m-3)\n",
    "<font size=\"+1\">Dimensionless Partition Coefficients</font> <br><br>\n",
    "Octanol/Water partition coefficient (KOW)\n",
    "Octanol/Air partition coefficient (KOA)\n",
    "Air/Water partition coefficent (KAW) - can be derived from Henry's law constant (H/Pa m3 mol-1) as KAW = H/RT\n",
    "\n",
    "The properties are related as:<br>\n",
    "logKaw = logSa - logSw (1)<br>\n",
    "Log Koa = LogSo - logSa (2)<br>\n",
    "LogKow = logSow - logSwo (3) (note that this is dry octanol Kow)<br>\n",
    "LogSo/Sw = logSo-logSw (4)<br>\n",
    "From this, we can derive a set of equation which gives the \"misclosure error\" (w) between the data points, where w is 0 in a completely consistent data set, such as our FAVs, as (Schenker et al., 2005):<br>\n",
    "logKaw - logKow + logKoa = w0 (5)<br>\n",
    "then we can adjust these values with an adjustment, vi, where (if the relative uncertainty between the values is equal) \n",
    "w0 = v1-v2+v3 (6) (for the equation above) such that:<br>\n",
    "FAVKaw = logKaw-v1 (7)<br>\n",
    "FAVKow = logKow-v2 (8)<br>\n",
    "FAVKoa = logKoa-v3 (9)<br>\n",
    "This system can be extended so that instead of a single equation (5) we have a system of equations, based on (1)-(4) as:<br>\n",
    "log(Sa) - log(Sw) -log(Kaw) = w1 (10)<br>\n",
    "log(Sa) - log(So) + log(Koa) = w2 (11)<br>\n",
    "log(Sw) - log(So) + log(Kow) = w3(12) (note that this is dry octanol Kow)<br>\n",
    "\n",
    "The temperature dependence of these properties(K or S) can be estimated over a small temperature gradient using a modified Van't Hoff equation as ln(K/S(T2)) = ln(K/S(T1))- dU/R(1/T2-1/T1), where dU is the internal energy of phase change. All values entered into the model should be at 25°C. This paper has used properties corrected from within 5°C of that value (20 - 30 °C, inclusive) to derive the LDVs, unless otherwise noted. \n",
    "\n",
    "These internal energy values can also be adjusted, using a similar set of equations to the above (Beyer et al., 2002):<br>\n",
    "dUaw - dUow +dUoa = w4 (13a) or equivalently dUa - dUw -dUow +dUoa = w4 (13b).<br>\n",
    "\n",
    "\n",
    "1. Iterative: Adjusted using the iterative approach of Beyer et al. (2002) DOI: 10.1002/etc.5620210508. \n",
    "2. Least-Squares: Adjusted using the approach of Schenker et al.(2005) DOI: 10.1021/es0502526\n",
    "3. Bayesian approach: Estimate the probability distribution of each property value using Bayes' theorem, which is the subject of this paper.\n",
    "***Question - Can I combine the least-squares approach with a Bayesian approach? Is it just that I would need to change my maximum likelihood estimator?***\n",
    "\n",
    "When we consider the problem of having a diverse set of inconsistent measured values for the same properties, we can see that  it essentially breaks down into two parts:\n",
    "1. A prior belief as to what the value of a measured property should be, based on its relationship to the other measured values and\n",
    "2. An observation or set of observations of the property.\n",
    "\n",
    "This is a classic example of Bayes' theorem (see e.g. wikipedia), and so this problem is amenable to a simple Bayesian approach. The Bayesian approach also has the advantage of taking an \"uncertainty first\" view of data and of generating a probability distribution for every measured value. Uncertainty in physico-chemical properties is often one of the most important sources of uncertainty in a chemical fate model, but this uncertainty can be difficult to quantify as measured and modelled values can diverge significantly, but the reported uncertainty for each is typically very small, and it can be hard to tell how well we know what we think we know. The Bayesian approach is ready-made for robust uncertainty analysis, as the probability distributions required for a Monte Carlo analysis are the outputs of a Bayesian model.\n",
    "\n",
    "This notebook will walk through this approach, providing an open-source tool for anyone familiar with basic Python."
   ]
  }
 ],
 "metadata": {
  "kernelspec": {
   "display_name": "Python 3",
   "language": "python",
   "name": "python3"
  },
  "language_info": {
   "codemirror_mode": {
    "name": "ipython",
    "version": 3
   },
   "file_extension": ".py",
   "mimetype": "text/x-python",
   "name": "python",
   "nbconvert_exporter": "python",
   "pygments_lexer": "ipython3",
   "version": "3.6.5"
  }
 },
 "nbformat": 4,
 "nbformat_minor": 2
}
